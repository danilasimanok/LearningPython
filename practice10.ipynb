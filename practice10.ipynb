{
 "cells": [
  {
   "cell_type": "markdown",
   "metadata": {},
   "source": [
    "# Ускорение метода Гаусса"
   ]
  },
  {
   "cell_type": "code",
   "execution_count": 2,
   "metadata": {},
   "outputs": [
    {
     "name": "stdout",
     "output_type": "stream",
     "text": [
      "5.35 s ± 137 ms per loop (mean ± std. dev. of 7 runs, 1 loop each)\n",
      "1.77 s ± 127 ms per loop (mean ± std. dev. of 7 runs, 1 loop each)\n"
     ]
    }
   ],
   "source": [
    "from numpy import array, random\n",
    "from numba import jit\n",
    "\n",
    "size = 1000\n",
    "system = random.rand(size, size + 1)\n",
    "\n",
    "def gauss(system,size):\n",
    "    i=0\n",
    "    while i<size:\n",
    "        system[i]=system[i]/system[i][i]\n",
    "        j=i+1\n",
    "        while j<size:\n",
    "            system[j]=system[j]-system[i]*system[j][i]\n",
    "            j+=1\n",
    "        i+=1\n",
    "    i=size-1\n",
    "    while i>=0:\n",
    "        j=i-1\n",
    "        while j>=0:\n",
    "            system[j]=system[j]-system[i]*system[j][i]\n",
    "            j-=1\n",
    "        i-=1\n",
    "    return system[:,size]\n",
    "\n",
    "smth = gauss(system, size)\n",
    "%timeit gauss(system, size)\n",
    "\n",
    "gauss = jit(nopython=True)(gauss)\n",
    "\n",
    "smth = gauss(system, size)\n",
    "%timeit gauss(system, size)"
   ]
  }
 ],
 "metadata": {
  "kernelspec": {
   "display_name": "Python 3",
   "language": "python",
   "name": "python3"
  },
  "language_info": {
   "codemirror_mode": {
    "name": "ipython",
    "version": 3
   },
   "file_extension": ".py",
   "mimetype": "text/x-python",
   "name": "python",
   "nbconvert_exporter": "python",
   "pygments_lexer": "ipython3",
   "version": "3.6.7"
  }
 },
 "nbformat": 4,
 "nbformat_minor": 2
}
