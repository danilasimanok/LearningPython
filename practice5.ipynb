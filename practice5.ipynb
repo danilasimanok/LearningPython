{
 "cells": [
  {
   "cell_type": "markdown",
   "metadata": {},
   "source": [
    "# Мой тип данных с операциями над ними\n",
    "\n",
    "Мною были реализовано [поле из двух элементов](https://ru.wikipedia.org/wiki/%D0%9A%D0%BE%D0%BD%D0%B5%D1%87%D0%BD%D0%BE%D0%B5_%D0%BF%D0%BE%D0%BB%D0%B5#%D0%9F%D0%BE%D0%BB%D0%B5_%D0%B8%D0%B7_%D0%B4%D0%B2%D1%83%D1%85_%D1%8D%D0%BB%D0%B5%D0%BC%D0%B5%D0%BD%D1%82%D0%BE%D0%B2)."
   ]
  },
  {
   "cell_type": "code",
   "execution_count": 6,
   "metadata": {},
   "outputs": [
    {
     "name": "stdout",
     "output_type": "stream",
     "text": [
      "0 1\n",
      "0 1 1 0\n",
      "0 0 0 1\n",
      "True False True\n",
      "Исключение произошло.\n"
     ]
    }
   ],
   "source": [
    "class F2_element:\n",
    "    \n",
    "    \"Элементы поля из двух элементов.\"\n",
    "    \n",
    "    class F2Exception(Exception):\n",
    "        pass\n",
    "    \n",
    "    def __init__(self,n):\n",
    "        if n==0:\n",
    "            self.bool=False\n",
    "        elif n==1:\n",
    "            self.bool=True\n",
    "        else:\n",
    "            raise F2_element.F2Exception(\"В F2 есть только элементы 0 и 1.\")\n",
    "    \n",
    "    def __add__(self,other):\n",
    "        return F2_element(self.bool^other.bool)\n",
    "    \n",
    "    def __str__(self):\n",
    "        return str(int(self.bool))\n",
    "    \n",
    "    def __mul__(self,other):\n",
    "        return F2_element(self.bool and other.bool)\n",
    "    \n",
    "    def __eq__(self,other):\n",
    "        return self.bool==other.bool\n",
    "\n",
    "f1=F2_element(1)\n",
    "f0=F2_element(0)\n",
    "print(f0,f1)\n",
    "print(f0+f0,f0+f1,f1+f0,f1+f1)\n",
    "print(f0*f0,f0*f1,f1*f0,f1*f1)\n",
    "print(f0==f0,f1==f0,f1==f1)\n",
    "try:\n",
    "    f3=F2_element(\"33\")\n",
    "except(F2_element.F2Exception):\n",
    "    print(\"Исключение произошло.\")"
   ]
  }
 ],
 "metadata": {
  "kernelspec": {
   "display_name": "Python 3",
   "language": "python",
   "name": "python3"
  },
  "language_info": {
   "codemirror_mode": {
    "name": "ipython",
    "version": 3
   },
   "file_extension": ".py",
   "mimetype": "text/x-python",
   "name": "python",
   "nbconvert_exporter": "python",
   "pygments_lexer": "ipython3",
   "version": "3.6.6"
  }
 },
 "nbformat": 4,
 "nbformat_minor": 2
}
