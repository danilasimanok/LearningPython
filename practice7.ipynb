{
 "cells": [
  {
   "cell_type": "markdown",
   "metadata": {},
   "source": [
    "# Деление с остатком многочленов над полем классов вычетов по модулю два"
   ]
  },
  {
   "cell_type": "code",
   "execution_count": 3,
   "metadata": {},
   "outputs": [
    {
     "name": "stdout",
     "output_type": "stream",
     "text": [
      "[1]2*x^3+[1]2*x^2+[1]2*x^0\n",
      "[0]2*x^3+[0]2*x^2+[1]2*x^1+[1]2*x^0\n",
      "[1]2*x^2+[0]2*x^0\n",
      "[1]2*x^0\n",
      "[0]2*x^3+[0]2*x^2+[1]2*x^1+[1]2*x^0\n"
     ]
    }
   ],
   "source": [
    "from useless_pack.useless.deduction_classes.deduction_class_field import *\n",
    "from useless_pack.useless.polynomials.polynomial_over_a_field import *\n",
    "\n",
    "# В кольце вычетов по модулю 2 нет отношения порядка, однако, задав его следующим образом, мы заставим многочлен чистить нули\n",
    "def f(self,other):\n",
    "    if(self==other):\n",
    "        return True\n",
    "    else:\n",
    "        return False\n",
    "DeductionClass.__le__=f\n",
    "del f\n",
    "def f(self):\n",
    "    return self\n",
    "DeductionClass.__abs__=f\n",
    "# Определяем ноль и epsilon многочлена\n",
    "PolynomialOverARingItem.set_default(lambda: DeductionClassPrime(0,2))\n",
    "PolynomialOverARingItem.set_epsilon(DeductionClassPrime(0,2))\n",
    "\n",
    "d0={1:DeductionClassPrime(1,2),0:DeductionClassPrime(1,2)}\n",
    "d1={3:DeductionClassPrime(1,2),2:DeductionClassPrime(1,2),0:DeductionClassPrime(1,2)}\n",
    "p1=PolynomialOverAFieldItem(d1)\n",
    "p0=PolynomialOverAFieldItem(d0)\n",
    "print(p1,p0,p1/p0,p1%p0,sep='\\n')\n",
    "print(p0)"
   ]
  },
  {
   "cell_type": "code",
   "execution_count": null,
   "metadata": {},
   "outputs": [],
   "source": []
  }
 ],
 "metadata": {
  "kernelspec": {
   "display_name": "Python 3",
   "language": "python",
   "name": "python3"
  },
  "language_info": {
   "codemirror_mode": {
    "name": "ipython",
    "version": 3
   },
   "file_extension": ".py",
   "mimetype": "text/x-python",
   "name": "python",
   "nbconvert_exporter": "python",
   "pygments_lexer": "ipython3",
   "version": "3.6.7"
  }
 },
 "nbformat": 4,
 "nbformat_minor": 2
}
