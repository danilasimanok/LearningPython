{
 "cells": [
  {
   "cell_type": "markdown",
   "metadata": {},
   "source": [
    "# Relax coding\n",
    "## Алгоритм Евклида"
   ]
  },
  {
   "cell_type": "code",
   "execution_count": 1,
   "metadata": {},
   "outputs": [],
   "source": [
    "def gcd(a,b):\n",
    "    if(b==0):\n",
    "        return a\n",
    "    else:\n",
    "        return gcd(b,a%b)"
   ]
  },
  {
   "cell_type": "markdown",
   "metadata": {},
   "source": [
    "## Простое число\n",
    "Первая функция с вероятностью $\\frac{7}8$ узнает, простое ли чило. В случае, когда ошибки необходимо избежать наверняка, стоит использовать вторую функцию."
   ]
  },
  {
   "cell_type": "code",
   "execution_count": 2,
   "metadata": {},
   "outputs": [],
   "source": [
    "import functools\n",
    "\n",
    "aa=[2,3,5]\n",
    "def industrial_grade_prime(n):\n",
    "    f=True\n",
    "    for a in aa:\n",
    "        f=(f and a**(n-1)%n==1)or(n in aa)\n",
    "    return f\n",
    "\n",
    "@functools.lru_cache(maxsize=100)\n",
    "def Ъ_простое(n):\n",
    "    f=True\n",
    "    i=2\n",
    "    while(i<=n**0.5):\n",
    "        f=f and (n%i!=0)\n",
    "        i+=1\n",
    "    return f"
   ]
  },
  {
   "cell_type": "markdown",
   "metadata": {},
   "source": [
    "## Вывод чисел в системе счисления с основанием не более 36"
   ]
  },
  {
   "cell_type": "code",
   "execution_count": 3,
   "metadata": {},
   "outputs": [],
   "source": [
    "A=ord('A')\n",
    "Z=ord('0')\n",
    "\n",
    "def to_numeral_system(i,n):\n",
    "    modulos=[]\n",
    "    while i!=0:\n",
    "        mod=i%n\n",
    "        if(mod>=10):\n",
    "            mod=chr(A+mod-10)\n",
    "        else:\n",
    "            mod=chr(Z+mod)\n",
    "        modulos.append(mod)\n",
    "        i=i//n\n",
    "    modulos.reverse()\n",
    "    return ''.join(modulos)"
   ]
  },
  {
   "cell_type": "markdown",
   "metadata": {},
   "source": [
    "## Расширенный алгоритм Евклида"
   ]
  },
  {
   "cell_type": "code",
   "execution_count": 4,
   "metadata": {},
   "outputs": [],
   "source": [
    "def extended_Euclid(a,b):\n",
    "    if a==0:\n",
    "        return (b,0,1)\n",
    "    else:\n",
    "        g,x,y=extended_Euclid(b%a,a)\n",
    "        return (g,y-(b//a)*x,x)"
   ]
  }
 ],
 "metadata": {
  "kernelspec": {
   "display_name": "Python 3",
   "language": "python",
   "name": "python3"
  },
  "language_info": {
   "codemirror_mode": {
    "name": "ipython",
    "version": 3
   },
   "file_extension": ".py",
   "mimetype": "text/x-python",
   "name": "python",
   "nbconvert_exporter": "python",
   "pygments_lexer": "ipython3",
   "version": "3.6.7"
  }
 },
 "nbformat": 4,
 "nbformat_minor": 2
}
