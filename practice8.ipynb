{
 "cells": [
  {
   "cell_type": "markdown",
   "metadata": {},
   "source": [
    "# Решение системы линейных уравнений методом Жордана-Гаусса"
   ]
  },
  {
   "cell_type": "code",
   "execution_count": 5,
   "metadata": {},
   "outputs": [
    {
     "name": "stdout",
     "output_type": "stream",
     "text": [
      "[[ 4.  3. -2.  4.]\n",
      " [ 1.  2.  1.  8.]\n",
      " [ 3.  2.  1. 10.]]\n",
      "[1. 2. 3.]\n"
     ]
    }
   ],
   "source": [
    "from numpy import array,zeros\n",
    "\n",
    "system=array([[4.,3.,-2.,4.],\n",
    "             [1.,2.,1.,8.],\n",
    "             [3.,2.,1.,10.]])\n",
    "size=3\n",
    "print(system)\n",
    "\n",
    "def gauss(system,size):\n",
    "    i=0\n",
    "    while i<size:\n",
    "        system[i]=system[i]/system[i][i]\n",
    "        j=i+1\n",
    "        while j<size:\n",
    "            system[j]=system[j]-system[i]*system[j][i]\n",
    "            j+=1\n",
    "        i+=1\n",
    "    i=size-1\n",
    "    while i>=0:\n",
    "        j=i-1\n",
    "        while j>=0:\n",
    "            system[j]=system[j]-system[i]*system[j][i]\n",
    "            j-=1\n",
    "        i-=1\n",
    "    return system[:,size]\n",
    "\n",
    "print(gauss(system,size))"
   ]
  }
 ],
 "metadata": {
  "kernelspec": {
   "display_name": "Python 3",
   "language": "python",
   "name": "python3"
  },
  "language_info": {
   "codemirror_mode": {
    "name": "ipython",
    "version": 3
   },
   "file_extension": ".py",
   "mimetype": "text/x-python",
   "name": "python",
   "nbconvert_exporter": "python",
   "pygments_lexer": "ipython3",
   "version": "3.6.7"
  }
 },
 "nbformat": 4,
 "nbformat_minor": 2
}
