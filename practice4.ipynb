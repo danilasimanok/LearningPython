{
 "cells": [
  {
   "cell_type": "code",
   "execution_count": 1,
   "metadata": {},
   "outputs": [
    {
     "name": "stdout",
     "output_type": "stream",
     "text": [
      "AAAAA"
     ]
    }
   ],
   "source": [
    "def times(n):\n",
    "    def decor(a):\n",
    "        i=0\n",
    "        while i<n:\n",
    "            i+=1\n",
    "            a()\n",
    "        return None\n",
    "    return decor\n",
    "        \n",
    "@times(5)\n",
    "def A():\n",
    "    print(\"A\",end=\"\")"
   ]
  }
 ],
 "metadata": {
  "kernelspec": {
   "display_name": "Python 3",
   "language": "python",
   "name": "python3"
  },
  "language_info": {
   "codemirror_mode": {
    "name": "ipython",
    "version": 3
   },
   "file_extension": ".py",
   "mimetype": "text/x-python",
   "name": "python",
   "nbconvert_exporter": "python",
   "pygments_lexer": "ipython3",
   "version": "3.6.6"
  }
 },
 "nbformat": 4,
 "nbformat_minor": 2
}
